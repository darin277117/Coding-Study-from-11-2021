{
  "nbformat": 4,
  "nbformat_minor": 0,
  "metadata": {
    "colab": {
      "name": "Untitled2.ipynb",
      "provenance": [],
      "authorship_tag": "ABX9TyPY2KAYZiAnQ9sCJstBxNDQ",
      "include_colab_link": true
    },
    "kernelspec": {
      "name": "python3",
      "display_name": "Python 3"
    },
    "language_info": {
      "name": "python"
    }
  },
  "cells": [
    {
      "cell_type": "markdown",
      "metadata": {
        "id": "view-in-github",
        "colab_type": "text"
      },
      "source": [
        "<a href=\"https://colab.research.google.com/github/darin277117/Coding-Study-from-11-2021/blob/hoewonjjang/Untitled2.ipynb\" target=\"_parent\"><img src=\"https://colab.research.google.com/assets/colab-badge.svg\" alt=\"Open In Colab\"/></a>"
      ]
    },
    {
      "cell_type": "markdown",
      "source": [
        "Chapter 2"
      ],
      "metadata": {
        "id": "rQlB46qESiFg"
      }
    },
    {
      "cell_type": "code",
      "source": [
        "#1번 홍길동 씨의 과목별 점수는 다음과 같다. 홍길동 씨의 평균 점수를 구해 보자.\n",
        "#과목\t점수 국어\t80 영어\t75 수학\t55\n",
        "a = 80\n",
        "b = 75\n",
        "c = 55\n",
        "print((a+b+c)/3)"
      ],
      "metadata": {
        "colab": {
          "base_uri": "https://localhost:8080/"
        },
        "id": "QYlY5mFaSic7",
        "outputId": "ec18f0e5-8926-4be9-99f0-5f49d52d35cd"
      },
      "execution_count": null,
      "outputs": [
        {
          "output_type": "stream",
          "name": "stdout",
          "text": [
            "70.0\n"
          ]
        }
      ]
    },
    {
      "cell_type": "code",
      "execution_count": null,
      "metadata": {
        "id": "sF1yhPXRSgA6"
      },
      "outputs": [],
      "source": [
        "#2번 자연수 13이 홀수인지 짝수인지 판별할 수 있는 방법에 대해 말해 보자.\n",
        "a= 13\n",
        "if a/2 == 1:\n",
        "  print(\"홀수\")"
      ]
    },
    {
      "cell_type": "code",
      "source": [
        "#3번 홍길동 씨의 주민등록번호는 881120-1068234이다. 홍길동 씨의 주민등록번호를 연월일(YYYYMMDD) 부분과 그 뒤의 숫자 부분으로 나누어 출력해 보자.\n",
        "a= \"881120-1068234\"\n",
        "date = a[0:6]\n",
        "etc = a[7:]\n",
        "print(date)\n",
        "print(etc)"
      ],
      "metadata": {
        "colab": {
          "base_uri": "https://localhost:8080/"
        },
        "id": "sxW9U5n6VNXj",
        "outputId": "44e80a85-497f-4de6-9a76-ad8ab74b5624"
      },
      "execution_count": null,
      "outputs": [
        {
          "output_type": "stream",
          "name": "stdout",
          "text": [
            "881120\n",
            "1068234\n"
          ]
        }
      ]
    },
    {
      "cell_type": "code",
      "source": [
        "#4번 주민등록번호 뒷자리의 맨 첫 번째 숫자는 성별을 나타낸다. 주민등록번호에서 성별을 나타내는 숫자를 출력해 보자.\n",
        "pin = \"881120-1068234\"\n",
        "se = pin[7]\n",
        "print(se)"
      ],
      "metadata": {
        "colab": {
          "base_uri": "https://localhost:8080/"
        },
        "id": "5oRQGDn4Vw7k",
        "outputId": "d457b017-a8c0-4fca-fad5-699474161e36"
      },
      "execution_count": null,
      "outputs": [
        {
          "output_type": "stream",
          "name": "stdout",
          "text": [
            "1\n"
          ]
        }
      ]
    },
    {
      "cell_type": "code",
      "source": [
        "#5번 다음과 같은 문자열 a:b:c:d가 있다. \n",
        "#문자열의 replace 함수를 사용하여 a#b#c#d로 바꿔서 출력해 보자.\n",
        "a= \"a:b:c:d\"\n",
        "print(a.replace(':','#'))\n"
      ],
      "metadata": {
        "colab": {
          "base_uri": "https://localhost:8080/"
        },
        "id": "ex63aE70gbeC",
        "outputId": "edaeae73-6454-44e5-a6c1-d1557623ff43"
      },
      "execution_count": null,
      "outputs": [
        {
          "output_type": "stream",
          "name": "stdout",
          "text": [
            "a#b#c#d\n"
          ]
        }
      ]
    },
    {
      "cell_type": "code",
      "source": [
        "#6번 [1, 3, 5, 4, 2] 리스트를 [5, 4, 3, 2, 1]로 만들어 보자.\n",
        "a= [1,3,5,4,2]\n",
        "a.sort()\n",
        "a.reverse()\n",
        "print(a)"
      ],
      "metadata": {
        "colab": {
          "base_uri": "https://localhost:8080/"
        },
        "id": "FwArgrgCgbXn",
        "outputId": "0a3d3422-ffeb-4953-d62e-f300aba50e78"
      },
      "execution_count": null,
      "outputs": [
        {
          "output_type": "stream",
          "name": "stdout",
          "text": [
            "[5, 4, 3, 2, 1]\n"
          ]
        }
      ]
    },
    {
      "cell_type": "code",
      "source": [
        "#7번 ['Life', 'is', 'too', 'short'] 리스트를 Life is too short 문자열로 만들어 출력해 보자\n",
        "a= ['Life','is','too','short']\n",
        "print(a.pop())\n",
        "print(a.pop())\n",
        "print(a.pop())\n",
        "print(a.pop())"
      ],
      "metadata": {
        "colab": {
          "base_uri": "https://localhost:8080/"
        },
        "id": "oGMrmhVSic_f",
        "outputId": "9ad71ac1-1210-4a6a-817c-760a0132a935"
      },
      "execution_count": null,
      "outputs": [
        {
          "output_type": "stream",
          "name": "stdout",
          "text": [
            "short\n",
            "too\n",
            "is\n",
            "Life\n"
          ]
        }
      ]
    },
    {
      "cell_type": "code",
      "source": [
        "#7번 해설\n",
        "a = ['Life', 'is', 'too', 'short']\n",
        "result = \" \".join(a)\n",
        "print(result)"
      ],
      "metadata": {
        "colab": {
          "base_uri": "https://localhost:8080/"
        },
        "id": "gHfccIHilnTT",
        "outputId": "11a811b6-cf8a-4e63-9279-8af63ccf85b5"
      },
      "execution_count": null,
      "outputs": [
        {
          "output_type": "stream",
          "name": "stdout",
          "text": [
            "Life is too short\n"
          ]
        }
      ]
    },
    {
      "cell_type": "code",
      "source": [
        "#8번 (1,2,3) 튜플에 값 4를 추가하여 (1,2,3,4)를 만들어 출력해 보자.\n",
        "s1 = set([1,2,3])\n",
        "s1.add(4)\n",
        "t1 = tuple(s1)\n",
        "print(t1)"
      ],
      "metadata": {
        "colab": {
          "base_uri": "https://localhost:8080/"
        },
        "id": "b00n0FQCjoTe",
        "outputId": "ab6c02cf-b558-4cab-fff4-1520c91b3fe8"
      },
      "execution_count": null,
      "outputs": [
        {
          "output_type": "stream",
          "name": "stdout",
          "text": [
            "(1, 2, 3, 4)\n"
          ]
        }
      ]
    },
    {
      "cell_type": "code",
      "source": [
        "a = dict()\n",
        "print(a)\n",
        "a['name'] = 'python'\n",
        "print(a)\n",
        "a[('a',)] = 'python'\n",
        "print(a)\n",
        "a[[1]] = 'python'\n",
        "print(a)\n",
        "a[250] = 'python'\n",
        "print(a)"
      ],
      "metadata": {
        "colab": {
          "base_uri": "https://localhost:8080/",
          "height": 299
        },
        "id": "SY-sAKRxkBah",
        "outputId": "468ca075-85a7-44cc-fba2-e3e3e04f18ab"
      },
      "execution_count": null,
      "outputs": [
        {
          "output_type": "stream",
          "name": "stdout",
          "text": [
            "{}\n",
            "{'name': 'python'}\n",
            "{'name': 'python', ('a',): 'python'}\n"
          ]
        },
        {
          "output_type": "error",
          "ename": "TypeError",
          "evalue": "ignored",
          "traceback": [
            "\u001b[0;31m---------------------------------------------------------------------------\u001b[0m",
            "\u001b[0;31mTypeError\u001b[0m                                 Traceback (most recent call last)",
            "\u001b[0;32m<ipython-input-35-574593188d2f>\u001b[0m in \u001b[0;36m<module>\u001b[0;34m()\u001b[0m\n\u001b[1;32m      5\u001b[0m \u001b[0ma\u001b[0m\u001b[0;34m[\u001b[0m\u001b[0;34m(\u001b[0m\u001b[0;34m'a'\u001b[0m\u001b[0;34m,\u001b[0m\u001b[0;34m)\u001b[0m\u001b[0;34m]\u001b[0m \u001b[0;34m=\u001b[0m \u001b[0;34m'python'\u001b[0m\u001b[0;34m\u001b[0m\u001b[0;34m\u001b[0m\u001b[0m\n\u001b[1;32m      6\u001b[0m \u001b[0mprint\u001b[0m\u001b[0;34m(\u001b[0m\u001b[0ma\u001b[0m\u001b[0;34m)\u001b[0m\u001b[0;34m\u001b[0m\u001b[0;34m\u001b[0m\u001b[0m\n\u001b[0;32m----> 7\u001b[0;31m \u001b[0ma\u001b[0m\u001b[0;34m[\u001b[0m\u001b[0;34m[\u001b[0m\u001b[0;36m1\u001b[0m\u001b[0;34m]\u001b[0m\u001b[0;34m]\u001b[0m \u001b[0;34m=\u001b[0m \u001b[0;34m'python'\u001b[0m\u001b[0;34m\u001b[0m\u001b[0;34m\u001b[0m\u001b[0m\n\u001b[0m\u001b[1;32m      8\u001b[0m \u001b[0mprint\u001b[0m\u001b[0;34m(\u001b[0m\u001b[0ma\u001b[0m\u001b[0;34m)\u001b[0m\u001b[0;34m\u001b[0m\u001b[0;34m\u001b[0m\u001b[0m\n\u001b[1;32m      9\u001b[0m \u001b[0ma\u001b[0m\u001b[0;34m[\u001b[0m\u001b[0;36m250\u001b[0m\u001b[0;34m]\u001b[0m \u001b[0;34m=\u001b[0m \u001b[0;34m'python'\u001b[0m\u001b[0;34m\u001b[0m\u001b[0;34m\u001b[0m\u001b[0m\n",
            "\u001b[0;31mTypeError\u001b[0m: unhashable type: 'list'"
          ]
        }
      ]
    },
    {
      "cell_type": "code",
      "source": [
        "#10번 딕셔너리 a에서 'B'에 해당되는 값을 추출해 보자.\n",
        "a = {'A':90, 'B':80, 'C':70}\n",
        "print(a.get('B'))\n"
      ],
      "metadata": {
        "colab": {
          "base_uri": "https://localhost:8080/"
        },
        "id": "_m8zIWChkZIj",
        "outputId": "f4e915e3-e021-4314-96b2-b8de0ab75bad"
      },
      "execution_count": null,
      "outputs": [
        {
          "output_type": "stream",
          "name": "stdout",
          "text": [
            "80\n"
          ]
        }
      ]
    },
    {
      "cell_type": "code",
      "source": [
        "#11번 a 리스트에서 중복 숫자를 제거해 보자.\n",
        "a = [1, 1, 1, 2, 2, 3, 3, 3, 4, 4, 5]\n",
        "a.remove(1)\n",
        "a.remove(1)\n",
        "a.remove(2)\n",
        "a.remove(3)\n",
        "a.remove(3)\n",
        "a.remove(4)\n",
        "print(a)\n"
      ],
      "metadata": {
        "colab": {
          "base_uri": "https://localhost:8080/"
        },
        "id": "Az5nuWQlksn1",
        "outputId": "f047064c-566e-4c42-beb9-8cab1c55fdf7"
      },
      "execution_count": null,
      "outputs": [
        {
          "output_type": "stream",
          "name": "stdout",
          "text": [
            "[1, 2, 3, 4, 5]\n"
          ]
        }
      ]
    },
    {
      "cell_type": "code",
      "source": [
        "#12번 파이썬은 다음처럼 동일한 값에 여러 개의 변수를 선언할 수 있다. \n",
        "#다음과 같이 a, b 변수를 선언한 후 a의 두 번째 요솟값을 변경하면 \n",
        "#b 값은 어떻게 될까? 그리고 이런 결과가 오는 이유에 대해 설명해 보자.\n",
        "\n",
        "a = b = [1, 2, 3]\n",
        "a[1] = 4\n",
        "print(b)"
      ],
      "metadata": {
        "colab": {
          "base_uri": "https://localhost:8080/"
        },
        "id": "bp-PC4OOlF0k",
        "outputId": "41977702-1431-4584-aa09-24ebc6299e1a"
      },
      "execution_count": null,
      "outputs": [
        {
          "output_type": "stream",
          "name": "stdout",
          "text": [
            "[1, 4, 3]\n"
          ]
        }
      ]
    },
    {
      "cell_type": "markdown",
      "source": [
        "3장"
      ],
      "metadata": {
        "id": "HFuEl_n5DaGT"
      }
    },
    {
      "cell_type": "code",
      "source": [
        "#1번 shirt"
      ],
      "metadata": {
        "id": "7GhZpVBUDYlM"
      },
      "execution_count": null,
      "outputs": []
    },
    {
      "cell_type": "code",
      "source": [
        "#2번 \n",
        "number = 0\n",
        "while a <1000:\n",
        "  number = number + 1\n",
        "  if number/3 ==0:\n",
        "    print(a)"
      ],
      "metadata": {
        "id": "VTz1gc7bDcea"
      },
      "execution_count": null,
      "outputs": []
    },
    {
      "cell_type": "code",
      "source": [
        "result = 0\n",
        "i = 1\n",
        "while i <= 1000:\n",
        "    if i % 3 == 0: \n",
        "        result += i\n",
        "    i += 1\n",
        "\n",
        "print(result)"
      ],
      "metadata": {
        "colab": {
          "base_uri": "https://localhost:8080/",
          "height": 245
        },
        "id": "mFVftU_bHR5E",
        "outputId": "51650a01-9006-4344-9229-fcad82461a53"
      },
      "execution_count": null,
      "outputs": [
        {
          "output_type": "error",
          "ename": "KeyboardInterrupt",
          "evalue": "ignored",
          "traceback": [
            "\u001b[0;31m---------------------------------------------------------------------------\u001b[0m",
            "\u001b[0;31mKeyboardInterrupt\u001b[0m                         Traceback (most recent call last)",
            "\u001b[0;32m<ipython-input-58-29a87a4223f6>\u001b[0m in \u001b[0;36m<module>\u001b[0;34m()\u001b[0m\n\u001b[1;32m      1\u001b[0m \u001b[0mresult\u001b[0m \u001b[0;34m=\u001b[0m \u001b[0;36m0\u001b[0m\u001b[0;34m\u001b[0m\u001b[0;34m\u001b[0m\u001b[0m\n\u001b[1;32m      2\u001b[0m \u001b[0mi\u001b[0m \u001b[0;34m=\u001b[0m \u001b[0;36m1\u001b[0m\u001b[0;34m\u001b[0m\u001b[0;34m\u001b[0m\u001b[0m\n\u001b[0;32m----> 3\u001b[0;31m \u001b[0;32mwhile\u001b[0m \u001b[0mi\u001b[0m \u001b[0;34m<=\u001b[0m \u001b[0;36m1000\u001b[0m\u001b[0;34m:\u001b[0m\u001b[0;34m\u001b[0m\u001b[0;34m\u001b[0m\u001b[0m\n\u001b[0m\u001b[1;32m      4\u001b[0m     \u001b[0;32mif\u001b[0m \u001b[0mi\u001b[0m \u001b[0;34m%\u001b[0m \u001b[0;36m3\u001b[0m \u001b[0;34m==\u001b[0m \u001b[0;36m0\u001b[0m\u001b[0;34m:\u001b[0m \u001b[0;31m# 3으로 나누어 떨어지는 수는 3의 배수\u001b[0m\u001b[0;34m\u001b[0m\u001b[0;34m\u001b[0m\u001b[0m\n\u001b[1;32m      5\u001b[0m         \u001b[0mresult\u001b[0m \u001b[0;34m=\u001b[0m \u001b[0mi\u001b[0m\u001b[0;34m\u001b[0m\u001b[0;34m\u001b[0m\u001b[0m\n",
            "\u001b[0;31mKeyboardInterrupt\u001b[0m: "
          ]
        }
      ]
    },
    {
      "cell_type": "code",
      "source": [
        ""
      ],
      "metadata": {
        "id": "eZMe5JW5HQoj"
      },
      "execution_count": null,
      "outputs": []
    },
    {
      "cell_type": "code",
      "source": [
        "#3번 while문을 사용하여 다음과 같이 별(*)을 표시하는 프로그램을 작성해 보자.\n",
        "a= 0\n",
        "while a < 5:\n",
        "  print()"
      ],
      "metadata": {
        "id": "7UUns0lbEfdh"
      },
      "execution_count": null,
      "outputs": []
    },
    {
      "cell_type": "code",
      "source": [
        "a=0\n",
        "while True:\n",
        "  a += 1\n",
        "  if a>5:break\n",
        "  print('*'*a)"
      ],
      "metadata": {
        "colab": {
          "base_uri": "https://localhost:8080/"
        },
        "id": "8m4mg0wGJGAf",
        "outputId": "7523f9df-f3cc-4af6-beb8-54fa376fa33b"
      },
      "execution_count": null,
      "outputs": [
        {
          "output_type": "stream",
          "name": "stdout",
          "text": [
            "*\n",
            "**\n",
            "***\n",
            "****\n",
            "*****\n"
          ]
        }
      ]
    },
    {
      "cell_type": "code",
      "source": [
        "#4번for문을 사용해 1부터 100까지의 숫자를 출력해 보자.\n",
        "a = range(1,101)\n",
        "for i in a:\n",
        "  print(i)"
      ],
      "metadata": {
        "id": "0UzISok2FC7G"
      },
      "execution_count": null,
      "outputs": []
    },
    {
      "cell_type": "code",
      "source": [
        "#5번 A 학급에 총 10명의 학생이 있다. 이 학생들의 중간고사 점수는 다음과 같다.\n",
        "#for문을 사용하여 A 학급의 평균 점수를 구해 보자.\n",
        "\n",
        "a = [70, 60, 55, 75, 95, 90, 80, 80, 85, 100]\n",
        "total = 0\n",
        "for score in a:\n",
        "  total += score\n",
        "\n",
        "average = total/len(a)\n",
        "print(average)\n",
        "  \n"
      ],
      "metadata": {
        "colab": {
          "base_uri": "https://localhost:8080/"
        },
        "id": "q8MjwUYrFUL7",
        "outputId": "2f5900f7-0c08-4a81-fe33-2cb26dd47ddd"
      },
      "execution_count": null,
      "outputs": [
        {
          "output_type": "stream",
          "name": "stdout",
          "text": [
            "79.0\n"
          ]
        }
      ]
    },
    {
      "cell_type": "code",
      "source": [
        ""
      ],
      "metadata": {
        "id": "_DZm00N5JWhi"
      },
      "execution_count": null,
      "outputs": []
    },
    {
      "cell_type": "code",
      "source": [
        "#6번\n",
        "numbers=[1,2,3,4,5]\n",
        "result = [n*2 for n in numbers if n%2 ==1]\n",
        "result.append\n",
        "print(result)"
      ],
      "metadata": {
        "colab": {
          "base_uri": "https://localhost:8080/"
        },
        "id": "qTCCCiELGH0b",
        "outputId": "f8a91a3b-e710-46fc-8023-7567b7cd220f"
      },
      "execution_count": null,
      "outputs": [
        {
          "output_type": "stream",
          "name": "stdout",
          "text": [
            "[2, 6, 10]\n"
          ]
        }
      ]
    },
    {
      "cell_type": "markdown",
      "source": [
        "4장"
      ],
      "metadata": {
        "id": "Z0erp5Dx2khq"
      }
    },
    {
      "cell_type": "code",
      "source": [
        "def is_odd(number):\n",
        "  if number %2 == 1:\n",
        "    return True\n",
        "  else:\n",
        "    return False\n",
        "print(is_odd(3))"
      ],
      "metadata": {
        "id": "0RdZIQuC0uHu",
        "colab": {
          "base_uri": "https://localhost:8080/"
        },
        "outputId": "06463f36-e216-4bfc-9c8b-48bcc91d7fd6"
      },
      "execution_count": 8,
      "outputs": [
        {
          "output_type": "stream",
          "name": "stdout",
          "text": [
            "True\n"
          ]
        }
      ]
    },
    {
      "cell_type": "code",
      "source": [
        "#2번입력으로 들어오는 모든 수의 평균 값을 계산해 주는 함수를 작성해 보자. \n",
        "#(단 입력으로 들어오는 수의 개수는 정해져 있지 않다.)\n",
        "def a(*args):\n",
        "  result = 0\n",
        "  for i in args:\n",
        "    result += i\n",
        "    return result/len(args)\n",
        "result = a(1,2,3)\n",
        "print(result)"
      ],
      "metadata": {
        "colab": {
          "base_uri": "https://localhost:8080/"
        },
        "id": "Xe-y6lAf2lw0",
        "outputId": "6473a830-d4eb-4a4b-93a2-e035655bbaed"
      },
      "execution_count": 6,
      "outputs": [
        {
          "output_type": "stream",
          "name": "stdout",
          "text": [
            "0.3333333333333333\n"
          ]
        }
      ]
    },
    {
      "cell_type": "code",
      "source": [
        "input1 = input(\"첫번째 숫자를 입력하세요:\")\n",
        "input2 = input(\"두번째 숫자를 입력하세요:\")\n",
        "\n",
        "total = int(input1) + int(input2)\n",
        "print(\"두 수의 합은 %s 입니다\" % total)"
      ],
      "metadata": {
        "colab": {
          "base_uri": "https://localhost:8080/"
        },
        "id": "JxH38nIo3C-w",
        "outputId": "4155e50c-9309-4be2-b9dd-73638f607539"
      },
      "execution_count": 4,
      "outputs": [
        {
          "output_type": "stream",
          "name": "stdout",
          "text": [
            "첫번째 숫자를 입력하세요:3\n",
            "두번째 숫자를 입력하세요:6\n",
            "두 수의 합은 9 입니다\n"
          ]
        }
      ]
    },
    {
      "cell_type": "code",
      "source": [
        "print(\"\".join([\"you\", \"need\", \"python\"]))"
      ],
      "metadata": {
        "colab": {
          "base_uri": "https://localhost:8080/"
        },
        "id": "fWIwZ1se4lXN",
        "outputId": "4397ec5b-a17a-46c1-df91-56363ecd033a"
      },
      "execution_count": 9,
      "outputs": [
        {
          "output_type": "stream",
          "name": "stdout",
          "text": [
            "youneedpython\n"
          ]
        }
      ]
    },
    {
      "cell_type": "code",
      "source": [
        ""
      ],
      "metadata": {
        "id": "muNjbyXA4pYP"
      },
      "execution_count": null,
      "outputs": []
    }
  ]
}