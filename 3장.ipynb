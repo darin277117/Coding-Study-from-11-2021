{
  "nbformat": 4,
  "nbformat_minor": 0,
  "metadata": {
    "colab": {
      "name": "3장",
      "provenance": [],
      "collapsed_sections": [],
      "authorship_tag": "ABX9TyMKq7v9zHAttBU26yysFOs8",
      "include_colab_link": true
    },
    "kernelspec": {
      "name": "python3",
      "display_name": "Python 3"
    },
    "language_info": {
      "name": "python"
    }
  },
  "cells": [
    {
      "cell_type": "markdown",
      "metadata": {
        "id": "view-in-github",
        "colab_type": "text"
      },
      "source": [
        "<a href=\"https://colab.research.google.com/github/darin277117/Coding-Study-from-11-2021/blob/main/3%EC%9E%A5.ipynb\" target=\"_parent\"><img src=\"https://colab.research.google.com/assets/colab-badge.svg\" alt=\"Open In Colab\"/></a>"
      ]
    },
    {
      "cell_type": "code",
      "metadata": {
        "id": "r4zUQ4ldXDgk"
      },
      "source": [
        "#need\n",
        "a = \"Life is too short, you need python\"\n",
        "\n",
        "if \"wife\" in a: print(\"wife\")\n",
        "elif \"python\" in a and \"you\" not in a: print(\"python\")\n",
        "elif \"shirt\" not in a: print(\"shirt\")\n",
        "elif \"need\" in a: print(\"need\")\n",
        "else: print(\"none\")"
      ],
      "execution_count": null,
      "outputs": []
    },
    {
      "cell_type": "code",
      "metadata": {
        "colab": {
          "base_uri": "https://localhost:8080/"
        },
        "id": "WNvW0z7fXKjf",
        "outputId": "5fb32dc4-f784-4ba6-a0b4-adb5f8ea4fe7"
      },
      "source": [
        "#while문을 사용해 1부터 1000까지의 자연수 중 3의 배수의 합을 구해 보자.\n",
        "a= 0\n",
        "i = 1\n",
        "while i <= 1000:\n",
        "  if i % 3 ==0:\n",
        "    a += i\n",
        "  i += 1\n",
        "\n",
        "print(a)\n"
      ],
      "execution_count": 22,
      "outputs": [
        {
          "output_type": "stream",
          "name": "stdout",
          "text": [
            "166833\n"
          ]
        }
      ]
    },
    {
      "cell_type": "markdown",
      "metadata": {
        "id": "77iNIboEX0gr"
      },
      "source": [
        ""
      ]
    },
    {
      "cell_type": "code",
      "metadata": {
        "id": "_rHyfFvHZVzZ"
      },
      "source": [
        "#while문을 사용하여 다음과 같이 별(*)을 표시하는 프로그램을 작성해 보자.\n",
        "i = 0\n",
        "while True:\n",
        "  i += 1\n",
        "  if i > 5: break\n",
        "  print('*' * i)"
      ],
      "execution_count": null,
      "outputs": []
    },
    {
      "cell_type": "code",
      "metadata": {
        "id": "gyfE7N_LacNv"
      },
      "source": [
        "# for문을 사용해 1부터 100까지의 숫자를 출력해 보자.\n",
        "a = range(1,101)\n",
        "for a in range(1,101):\n",
        "  print(a)"
      ],
      "execution_count": null,
      "outputs": []
    },
    {
      "cell_type": "code",
      "metadata": {
        "colab": {
          "base_uri": "https://localhost:8080/"
        },
        "id": "muUcthv2bBZP",
        "outputId": "028584e8-1b19-4a08-b738-dc47abf16555"
      },
      "source": [
        "#A 학급에 총 10명의 학생이 있다. 이 학생들의 중간고사 점수는 다음과 같다.\n",
        "#[70, 60, 55, 75, 95, 90, 80, 80, 85, 100]\n",
        "#for문을 사용하여 A 학급의 평균 점수를 구해 보자.\n",
        "scores = [70, 60, 55, 75, 95, 90, 80, 80, 85, 100]\n",
        "total = sum(scores)\n",
        "average = total/len(scores)\n",
        "print(average)"
      ],
      "execution_count": 16,
      "outputs": [
        {
          "output_type": "stream",
          "name": "stdout",
          "text": [
            "79.0\n"
          ]
        }
      ]
    },
    {
      "cell_type": "code",
      "metadata": {
        "id": "CVHao54xdeVh"
      },
      "source": [
        "#리스트 중에서 홀수에만 2를 곱하여 저장하는 다음 코드가 있다.\n",
        "#위 코드를 리스트 내포(list comprehension)를 사용하여 표현해 보자.\n",
        "numbers = [1, 2, 3, 4, 5]\n",
        "result = []\n",
        "for n in numbers:\n",
        "    if n % 2 == 1:\n",
        "        result.append(n*2)\n",
        "\n",
        "\n"
      ],
      "execution_count": 20,
      "outputs": []
    }
  ]
}