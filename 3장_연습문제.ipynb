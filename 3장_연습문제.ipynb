{
  "nbformat": 4,
  "nbformat_minor": 0,
  "metadata": {
    "colab": {
      "name": "3장 연습문제",
      "provenance": [],
      "collapsed_sections": [],
      "authorship_tag": "ABX9TyPtivU+3wi72GPOAEvTO/eY",
      "include_colab_link": true
    },
    "kernelspec": {
      "name": "python3",
      "display_name": "Python 3"
    },
    "language_info": {
      "name": "python"
    }
  },
  "cells": [
    {
      "cell_type": "markdown",
      "metadata": {
        "id": "view-in-github",
        "colab_type": "text"
      },
      "source": [
        "<a href=\"https://colab.research.google.com/github/darin277117/Coding-Study-from-11-2021/blob/main/3%EC%9E%A5_%EC%97%B0%EC%8A%B5%EB%AC%B8%EC%A0%9C.ipynb\" target=\"_parent\"><img src=\"https://colab.research.google.com/assets/colab-badge.svg\" alt=\"Open In Colab\"/></a>"
      ]
    },
    {
      "cell_type": "code",
      "metadata": {
        "colab": {
          "base_uri": "https://localhost:8080/"
        },
        "id": "j2BCC4S0Maru",
        "outputId": "32ec713f-f191-4105-dd46-0aa1fab45cb2"
      },
      "source": [
        "a = \"Life is too short, you need python\"\n",
        "\n",
        "if \"wife\" in a: print(\"wife\")\n",
        "elif \"python\" in a and \"you\" not in a: print(\"python\")\n",
        "elif \"shirt\" not in a: print(\"shirt\")\n",
        "elif \"need\" in a: print(\"need\")\n",
        "else: print(\"none\")\n"
      ],
      "execution_count": null,
      "outputs": [
        {
          "output_type": "stream",
          "name": "stdout",
          "text": [
            "shirt\n"
          ]
        }
      ]
    },
    {
      "cell_type": "code",
      "metadata": {
        "colab": {
          "base_uri": "https://localhost:8080/"
        },
        "id": "1oWVbdmUMkPs",
        "outputId": "717a23e3-09c8-4669-8c04-02f1719a5902"
      },
      "source": [
        "num = 0\n",
        "sum = 0\n",
        "while True:\n",
        "  num = num +1\n",
        "  if num%3 == 0 :\n",
        "    sum = sum + num\n",
        "  if num == 1000 :\n",
        "    break\n",
        "print(sum)\n"
      ],
      "execution_count": null,
      "outputs": [
        {
          "output_type": "stream",
          "name": "stdout",
          "text": [
            "166833\n"
          ]
        }
      ]
    },
    {
      "cell_type": "code",
      "metadata": {
        "colab": {
          "base_uri": "https://localhost:8080/"
        },
        "id": "4V7WygGWNq5M",
        "outputId": "7a4ad85e-0feb-49ad-83cb-29be31c13d5d"
      },
      "source": [
        "num = 0\n",
        "while num <5 :\n",
        "  for i in range(5):\n",
        "    if i <=num : \n",
        "      print(\"*\",end=\"\")\n",
        "    else:\n",
        "      print(end=\"\")\n",
        "  print('')\n",
        "  num +=1"
      ],
      "execution_count": null,
      "outputs": [
        {
          "output_type": "stream",
          "name": "stdout",
          "text": [
            "*\n",
            "**\n",
            "***\n",
            "****\n",
            "*****\n"
          ]
        }
      ]
    },
    {
      "cell_type": "code",
      "metadata": {
        "colab": {
          "base_uri": "https://localhost:8080/"
        },
        "id": "Vwn71KnQPHU3",
        "outputId": "a388383e-ffa7-4c8f-ea98-dfff4aa733dc"
      },
      "source": [
        "\n",
        "for a in range(1,101) : \n",
        "  print(a, end = \" \")"
      ],
      "execution_count": null,
      "outputs": [
        {
          "output_type": "stream",
          "name": "stdout",
          "text": [
            "1 2 3 4 5 6 7 8 9 10 11 12 13 14 15 16 17 18 19 20 21 22 23 24 25 26 27 28 29 30 31 32 33 34 35 36 37 38 39 40 41 42 43 44 45 46 47 48 49 50 51 52 53 54 55 56 57 58 59 60 61 62 63 64 65 66 67 68 69 70 71 72 73 74 75 76 77 78 79 80 81 82 83 84 85 86 87 88 89 90 91 92 93 94 95 96 97 98 99 100 "
          ]
        }
      ]
    },
    {
      "cell_type": "code",
      "metadata": {
        "colab": {
          "base_uri": "https://localhost:8080/"
        },
        "id": "icPTgjPkQwMV",
        "outputId": "8caafd19-5556-4aa7-b908-17c7b76fec32"
      },
      "source": [
        "sum = 0\n",
        "score = [70, 60, 55, 75, 95, 90, 80, 80, 85, 100]\n",
        "for a in score:\n",
        "  sum = sum + a \n",
        "average = sum/(len(score))\n",
        "print(average)\n",
        "   "
      ],
      "execution_count": null,
      "outputs": [
        {
          "output_type": "stream",
          "name": "stdout",
          "text": [
            "79.0\n"
          ]
        }
      ]
    },
    {
      "cell_type": "code",
      "metadata": {
        "colab": {
          "base_uri": "https://localhost:8080/"
        },
        "id": "OzWUrGBMSIf1",
        "outputId": "1dd8be31-1ad2-4195-e93d-500f13c86da5"
      },
      "source": [
        "#numbers = [1, 2, 3, 4, 5]\n",
        "#result = []\n",
        "#for n in numbers:\n",
        "#   if n % 2 == 1:\n",
        "#        result.append(n*2)\n",
        "numbers = [1, 2, 3, 4, 5]\n",
        "result = [num * 2 for num in numbers if num%2 == 1]\n",
        "print(result)"
      ],
      "execution_count": null,
      "outputs": [
        {
          "output_type": "stream",
          "name": "stdout",
          "text": [
            "[2, 6, 10]\n"
          ]
        }
      ]
    }
  ]
}